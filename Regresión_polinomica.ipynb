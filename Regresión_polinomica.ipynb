{
  "nbformat": 4,
  "nbformat_minor": 0,
  "metadata": {
    "colab": {
      "provenance": []
    },
    "kernelspec": {
      "name": "python3",
      "display_name": "Python 3"
    },
    "language_info": {
      "name": "python"
    }
  },
  "cells": [
    {
      "cell_type": "markdown",
      "source": [
        "Primero importamos los datos necesarios para ejecutar nuestro dataset"
      ],
      "metadata": {
        "id": "DVaXgq5FVUBT"
      }
    },
    {
      "cell_type": "code",
      "source": [
        "# utilizado para manejos de directorios y rutas\n",
        "import os\n",
        "\n",
        "# Computacion vectorial y cientifica para python\n",
        "import numpy as np\n",
        "import pandas as pd\n"
      ],
      "metadata": {
        "id": "9s9II8Y-TWZC"
      },
      "execution_count": 48,
      "outputs": []
    },
    {
      "cell_type": "markdown",
      "source": [
        "# Validar"
      ],
      "metadata": {
        "id": "3__obcwlTscx"
      }
    },
    {
      "cell_type": "markdown",
      "source": [
        "Cargamos los datos y los mostramos para que el codigo corra correctamente"
      ],
      "metadata": {
        "id": "AFv8knbsNnXI"
      }
    },
    {
      "cell_type": "code",
      "source": [
        "# Cargar datos usando pandas\n",
        "data = pd.read_csv('/content/kc_house_data.csv', delimiter=\";\")\n",
        "\n",
        "# Mostrar las primeras filas del dataframe\n",
        "print(data.head())\n",
        "\n",
        "# Extraer X e y\n",
        "X = data.iloc[:, :-1].values  # Todas las columnas excepto la última\n",
        "y = data.iloc[:, -1].values    # La última columna\n",
        "\n",
        "# Imprimir las formas de los datos\n",
        "print(\"\\nForma de X:\", X.shape)\n",
        "print(\"Forma de y:\", y.shape)\n"
      ],
      "metadata": {
        "colab": {
          "base_uri": "https://localhost:8080/"
        },
        "id": "QHLclZOKC_8J",
        "outputId": "f9f5171f-8691-4286-ea05-c0f9d3280113"
      },
      "execution_count": 49,
      "outputs": [
        {
          "output_type": "stream",
          "name": "stdout",
          "text": [
            "  id,date,price,bedrooms,bathrooms,sqft_living,sqft_lot,floors,waterfront,view,condition,grade,sqft_above,sqft_basement,yr_built,yr_renovated,zipcode,lat,long,sqft_living15,sqft_lot15\n",
            "0  7129300520,\"20141013T000000\",221900,3,1,1180,5...                                                                                                                                   \n",
            "1  6414100192,\"20141209T000000\",538000,3,2.25,257...                                                                                                                                   \n",
            "2  5631500400,\"20150225T000000\",180000,2,1,770,10...                                                                                                                                   \n",
            "3  2487200875,\"20141209T000000\",604000,4,3,1960,5...                                                                                                                                   \n",
            "4  1954400510,\"20150218T000000\",510000,3,2,1680,8...                                                                                                                                   \n",
            "\n",
            "Forma de X: (21613, 0)\n",
            "Forma de y: (21613,)\n"
          ]
        }
      ]
    }
  ]
}