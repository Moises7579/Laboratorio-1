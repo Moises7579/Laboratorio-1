{
  "nbformat": 4,
  "nbformat_minor": 0,
  "metadata": {
    "colab": {
      "provenance": []
    },
    "kernelspec": {
      "name": "python3",
      "display_name": "Python 3"
    },
    "language_info": {
      "name": "python"
    }
  },
  "cells": [
    {
      "cell_type": "markdown",
      "source": [
        "Importamos las librerias para que el codigo pueda ejecutarse bien en Python"
      ],
      "metadata": {
        "id": "BKru2l8EMAJg"
      }
    },
    {
      "cell_type": "code",
      "source": [
        "# utilizado para manejos de directorios y rutas\n",
        "import os\n",
        "\n",
        "# Computacion vectorial y cientifica para python\n",
        "import pandas as pd\n",
        "import numpy as np\n",
        "\n",
        "# Librerias para la ecuacion de la normal\n",
        "from sklearn.decomposition import PCA\n",
        "from sklearn.linear_model import LinearRegression"
      ],
      "metadata": {
        "id": "RNZmcD16K3Hd"
      },
      "execution_count": null,
      "outputs": []
    },
    {
      "cell_type": "markdown",
      "source": [
        "\n",
        "# Validar"
      ],
      "metadata": {
        "id": "BkM1dWMwTk3Q"
      }
    },
    {
      "cell_type": "markdown",
      "source": [
        "Primero hacemos que se lea el archivo .csv, con el pd.read_csv ya te tambien tiene datos con strings, despues imprimimos y vemos que corre el codigo correctamente.\n",
        "\n"
      ],
      "metadata": {
        "id": "1HfBS7e8562I"
      }
    },
    {
      "cell_type": "code",
      "source": [
        "# Cargar datos con Pandas desde un archivo CSV\n",
        "\n",
        "archivo = '/content/Twitch_game_data.csv'\n",
        "df = pd.read_csv(archivo, delimiter=',', encoding='latin-1')\n",
        "\n",
        "# Acceder a las columnas específicas\n",
        "X = df.iloc[:, :-1].to_numpy()\n",
        "y = df.iloc[:, -1].to_numpy()\n",
        "m = len(y)\n",
        "\n",
        "# Obtener nombres de columnas\n",
        "column_names = list(df.columns)\n",
        "\n",
        "# Imprimir algunos puntos de datos\n",
        "print(m)\n",
        "\n",
        "# Crear el formato para imprimir las columnas con espacios\n",
        "format_string = '{} ' * len(column_names)\n",
        "\n",
        "print(format_string.format(*column_names))\n",
        "print('-' * (15 * len(column_names)))  # Línea divisoria ajustada al número de columnas\n",
        "\n",
        "for i in range(12):\n",
        "    # Verificar el tipo de dato antes de formatear\n",
        "    formatted_values = ['{:<12}'.format(str(value)) for value in X[i]] + ['{:<15}'.format(str(y[i]))]\n",
        "    print(''.join(formatted_values))"
      ],
      "metadata": {
        "colab": {
          "base_uri": "https://localhost:8080/"
        },
        "id": "RTQvSW8lrmvJ",
        "outputId": "11186200-6bea-4b2d-d4e8-f27cb87d14b1"
      },
      "execution_count": null,
      "outputs": [
        {
          "output_type": "stream",
          "name": "stdout",
          "text": [
            "18600\n",
            "Rank Game Month Year Hours_watched Hours_streamed Peak_viewers Peak_channels Streamers Avg_viewers Avg_channels Avg_viewer_ratio \n",
            "------------------------------------------------------------------------------------------------------------------------------------------------------------------------------------\n",
            "1           League of Legends1           2016        94377226    1362044     530270      2903        129172      127021      1833        69.29          \n",
            "2           Counter-Strike: Global Offensive1           2016        47832863    830105      372654      2197        120849      64378       1117        57.62          \n",
            "3           Dota 2      1           2016        45185893    433397      315083      1100        44074       60815       583         104.26         \n",
            "4           Hearthstone 1           2016        39936159    235903      131357      517         36170       53749       317         169.29         \n",
            "5           Call of Duty: Black Ops III1           2016        16153057    1151578     71639       3620        214054      21740       1549        14.03          \n",
            "6           Minecraft   1           2016        10231056    490002      64432       1538        88820       13769       659         20.88          \n",
            "7           World of Warcraft1           2016        8771452     342978      46130       1180        33375       11805       461         25.57          \n",
            "8           Z1: Battle Royale1           2016        7894571     205569      41588       460         21396       10625       276         38.4           \n",
            "9           Talk Shows & Podcasts1           2016        7688369     53235       84051       148         10779       10347       71          144.42         \n",
            "10          FIFA 16     1           2016        6988475     203646      145728      756         46462       9405        274         34.32          \n",
            "11          StarCraft II1           2016        6567126     73753       60355       178         7133        8838        99          89.04          \n",
            "12          Diablo III  1           2016        6235668     218490      57383       2185        25458       8392        294         28.54          \n"
          ]
        }
      ]
    },
    {
      "cell_type": "markdown",
      "source": [
        "# Ecuacion de la normal"
      ],
      "metadata": {
        "id": "ZtMrdeZILqkP"
      }
    },
    {
      "cell_type": "markdown",
      "source": [
        "Cargamos los archivos csv, mostramos los primeros 5 puntos de datos y calculamos la ecuacion de la normal"
      ],
      "metadata": {
        "id": "7X5w5tSX6MwI"
      }
    },
    {
      "cell_type": "code",
      "source": [
        "\n",
        "archivo = '/content/Twitch_game_data.csv'\n",
        "df = pd.read_csv(archivo, delimiter=',', encoding='latin-1')\n",
        "\n",
        "# Seleccionar las primeras tres columnas numéricas\n",
        "X = df.iloc[:, 0:3].to_numpy()\n",
        "\n",
        "# Imprimir algunos puntos de datos\n",
        "print(\"Primeros 5 puntos de datos:\")\n",
        "print(X[:5])\n",
        "\n",
        "# Seleccionar solo columnas numéricas\n",
        "numeric_columns = df.select_dtypes(include=[np.number]).columns\n",
        "X_numeric = df[numeric_columns].to_numpy()\n",
        "\n",
        "# Calcular la media para normalizar (restar la media)\n",
        "media = np.mean(X_numeric, axis=0)\n",
        "X_normalized = X_numeric - media\n",
        "\n",
        "# Calcular la matriz de covarianza\n",
        "cov_matrix = np.cov(X_normalized, rowvar=False)\n",
        "\n",
        "# Aplicar PCA\n",
        "n_components = min(2, X_normalized.shape[1])\n",
        "pca = PCA(n_components=n_components)\n",
        "X_pca = pca.fit_transform(X_normalized)\n",
        "\n",
        "# Ajustar un modelo de regresión lineal\n",
        "regression_model = LinearRegression()\n",
        "regression_model.fit(X_pca, y)\n",
        "\n",
        "# Imprimir los coeficientes de la regresión\n",
        "coefficients = regression_model.coef_\n",
        "intercept = regression_model.intercept_\n",
        "\n",
        "print('-'*24)\n",
        "\n",
        "print(f'Ecuación de la normal: y = {coefficients[0]} * X1 + {coefficients[1]} * X2 + {intercept}')\n"
      ],
      "metadata": {
        "colab": {
          "base_uri": "https://localhost:8080/"
        },
        "id": "eOTsXhtU3qK9",
        "outputId": "ac290c2b-ee58-49ed-936d-f0547d95c4ca"
      },
      "execution_count": 29,
      "outputs": [
        {
          "output_type": "stream",
          "name": "stdout",
          "text": [
            "Primeros 5 puntos de datos:\n",
            "[[1 'League of Legends' 1]\n",
            " [2 'Counter-Strike: Global Offensive' 1]\n",
            " [3 'Dota 2' 1]\n",
            " [4 'Hearthstone' 1]\n",
            " [5 'Call of Duty: Black Ops III' 1]]\n",
            "------------------------\n",
            "Ecuación de la normal: y = -2.3557722730133774e-07 * X1 + -4.39484212507995e-05 * X2 + 75.47092795698924\n"
          ]
        }
      ]
    }
  ]
}